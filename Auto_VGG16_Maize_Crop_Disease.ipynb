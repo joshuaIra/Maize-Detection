{
  "cells": [
    {
      "cell_type": "markdown",
      "source": [
        "We import the dataset from github"
      ],
      "metadata": {
        "id": "vVba3wGWq_9z"
      }
    },
    {
      "cell_type": "code",
      "execution_count": null,
      "metadata": {
        "colab": {
          "base_uri": "https://localhost:8080/"
        },
        "id": "0NwvGX3kjif0",
        "outputId": "d7736894-0922-4db2-c39c-5ba158bf2d0b"
      },
      "outputs": [
        {
          "output_type": "stream",
          "name": "stdout",
          "text": [
            "Cloning into 'Maize_Dataset'...\n",
            "remote: Enumerating objects: 4923, done.\u001b[K\n",
            "remote: Counting objects: 100% (69/69), done.\u001b[K\n",
            "remote: Compressing objects: 100% (28/28), done.\u001b[K\n",
            "remote: Total 4923 (delta 42), reused 68 (delta 41), pack-reused 4854\u001b[K\n",
            "Receiving objects: 100% (4923/4923), 162.57 MiB | 32.63 MiB/s, done.\n",
            "Resolving deltas: 100% (96/96), done.\n"
          ]
        }
      ],
      "source": [
        "!git clone https://github.com/Juru-Systems/Maize_Dataset.git"
      ]
    },
    {
      "cell_type": "code",
      "execution_count": null,
      "metadata": {
        "id": "eZNRwbp_OWLI"
      },
      "outputs": [],
      "source": [
        "from Maize_Dataset import maize_dataset"
      ]
    },
    {
      "cell_type": "markdown",
      "source": [
        ""
      ],
      "metadata": {
        "id": "o_Xj-nKjrLXZ"
      }
    },
    {
      "cell_type": "code",
      "execution_count": null,
      "metadata": {
        "id": "X7gr3ZHYOcyK"
      },
      "outputs": [],
      "source": [
        "b = maize_dataset.compile(class_encoding='class', ratio=[.7,.2,.1], equal_ratio_to_healthy=False)  "
      ]
    },
    {
      "cell_type": "code",
      "execution_count": null,
      "metadata": {
        "colab": {
          "base_uri": "https://localhost:8080/"
        },
        "id": "XtlI81gXPClk",
        "outputId": "8907f351-2ec9-4255-d4c4-1eb984f83cc2"
      },
      "outputs": [
        {
          "output_type": "stream",
          "name": "stdout",
          "text": [
            "train folder\n",
            "    |--class blight\n",
            "          |--contains 802 Original images\n",
            "          |--contains 4812 Generic images\n",
            "    |--class common_rust\n",
            "          |--contains 914 Original images\n",
            "          |--contains 5484 Generic images\n",
            "    |--class gray_leaf_spot\n",
            "          |--contains 401 Original images\n",
            "          |--contains 2406 Generic images\n",
            "    |--class healthy\n",
            "          |--contains 813 Original images\n",
            "          |--contains 4878 Generic images\n",
            "val folder\n",
            "    |--class blight\n",
            "          |--contains 229 Original images\n",
            "          |--contains 0 Generic images\n",
            "    |--class common_rust\n",
            "          |--contains 261 Original images\n",
            "          |--contains 0 Generic images\n",
            "    |--class gray_leaf_spot\n",
            "          |--contains 114 Original images\n",
            "          |--contains 0 Generic images\n",
            "    |--class healthy\n",
            "          |--contains 232 Original images\n",
            "          |--contains 0 Generic images\n",
            "test folder\n",
            "    |--class blight\n",
            "          |--contains 115 Original images\n",
            "          |--contains 0 Generic images\n",
            "    |--class common_rust\n",
            "          |--contains 131 Original images\n",
            "          |--contains 0 Generic images\n",
            "    |--class gray_leaf_spot\n",
            "          |--contains 58 Original images\n",
            "          |--contains 0 Generic images\n",
            "    |--class healthy\n",
            "          |--contains 117 Original images\n",
            "          |--contains 0 Generic images\n"
          ]
        }
      ],
      "source": [
        "b.visualise_tree"
      ]
    },
    {
      "cell_type": "code",
      "execution_count": null,
      "metadata": {
        "id": "j-K7O5k0_-vX"
      },
      "outputs": [],
      "source": [
        "import numpy as np\n",
        "import tensorflow as tf\n",
        "from Maize_Dataset import maize_dataset\n",
        "from matplotlib import pyplot as plt\n",
        "import cv2\n",
        "from shutil import move\n",
        "import os\n",
        "from keras.preprocessing.image import ImageDataGenerator, load_img, img_to_array\n",
        "from tensorflow.keras import models\n",
        "from tensorflow.keras import layers\n",
        "from tensorflow.keras.applications import VGG16\n",
        "from keras.optimizer_v2 import adam as adam_v2\n",
        "import json"
      ]
    },
    {
      "cell_type": "code",
      "execution_count": null,
      "metadata": {
        "id": "UKrgKYfxbuX9"
      },
      "outputs": [],
      "source": [
        "\n",
        "train_data_generator =  ImageDataGenerator(rotation_range=40,\n",
        "                                width_shift_range=0.2,\n",
        "                                height_shift_range=0.2,\n",
        "                                rescale=1./255,\n",
        "                                shear_range=0.2,\n",
        "                                zoom_range=0.2,\n",
        "                                horizontal_flip=True,\n",
        "                                fill_mode='nearest')\n",
        "\n",
        "val_data_generator =  ImageDataGenerator(rescale=1./255,)"
      ]
    },
    {
      "cell_type": "code",
      "execution_count": null,
      "metadata": {
        "colab": {
          "base_uri": "https://localhost:8080/"
        },
        "id": "WLHgcX9BlmVs",
        "outputId": "67624f3b-9698-4ac7-b49f-bc11ec53423a"
      },
      "outputs": [
        {
          "output_type": "stream",
          "name": "stdout",
          "text": [
            "Found 20510 images belonging to 4 classes.\n"
          ]
        }
      ],
      "source": [
        "train_dataset = train_data_generator.flow_from_directory(\n",
        "                                    \"Maize_Dataset/temp/train/\",\n",
        "                                    target_size = (224, 224),\n",
        "                                    class_mode = \"categorical\",\n",
        "                                    batch_size = 32,)"
      ]
    },
    {
      "cell_type": "code",
      "execution_count": null,
      "metadata": {
        "colab": {
          "base_uri": "https://localhost:8080/"
        },
        "id": "IOCHzBJ8tCmA",
        "outputId": "a484332b-bb66-457a-c79f-19dae1e7b908"
      },
      "outputs": [
        {
          "output_type": "stream",
          "name": "stdout",
          "text": [
            "Found 836 images belonging to 4 classes.\n"
          ]
        }
      ],
      "source": [
        "val_dataset = val_data_generator.flow_from_directory(\n",
        "                                    \"Maize_Dataset/temp/val/\",\n",
        "                                    target_size = (224, 224),\n",
        "                                    class_mode = \"categorical\",\n",
        "                                    batch_size = 32,)"
      ]
    },
    {
      "cell_type": "code",
      "execution_count": null,
      "metadata": {
        "id": "-2jaGEMpPqxf",
        "colab": {
          "base_uri": "https://localhost:8080/"
        },
        "outputId": "fc255422-45be-444f-e79e-e593903dbd5a"
      },
      "outputs": [
        {
          "output_type": "stream",
          "name": "stdout",
          "text": [
            "Downloading data from https://storage.googleapis.com/tensorflow/keras-applications/vgg16/vgg16_weights_tf_dim_ordering_tf_kernels.h5\n",
            "553467904/553467096 [==============================] - 3s 0us/step\n",
            "553476096/553467096 [==============================] - 3s 0us/step\n"
          ]
        }
      ],
      "source": [
        "a = VGG16(weights='imagenet',include_top=True,input_shape=(224, 224, 3))"
      ]
    },
    {
      "cell_type": "code",
      "source": [
        "a.summary()"
      ],
      "metadata": {
        "id": "Z_FceKfr8cFK",
        "colab": {
          "base_uri": "https://localhost:8080/"
        },
        "outputId": "0b7173b7-0ccf-4483-e123-9874dcfb0572"
      },
      "execution_count": null,
      "outputs": [
        {
          "output_type": "stream",
          "name": "stdout",
          "text": [
            "Model: \"vgg16\"\n",
            "_________________________________________________________________\n",
            " Layer (type)                Output Shape              Param #   \n",
            "=================================================================\n",
            " input_1 (InputLayer)        [(None, 224, 224, 3)]     0         \n",
            "                                                                 \n",
            " block1_conv1 (Conv2D)       (None, 224, 224, 64)      1792      \n",
            "                                                                 \n",
            " block1_conv2 (Conv2D)       (None, 224, 224, 64)      36928     \n",
            "                                                                 \n",
            " block1_pool (MaxPooling2D)  (None, 112, 112, 64)      0         \n",
            "                                                                 \n",
            " block2_conv1 (Conv2D)       (None, 112, 112, 128)     73856     \n",
            "                                                                 \n",
            " block2_conv2 (Conv2D)       (None, 112, 112, 128)     147584    \n",
            "                                                                 \n",
            " block2_pool (MaxPooling2D)  (None, 56, 56, 128)       0         \n",
            "                                                                 \n",
            " block3_conv1 (Conv2D)       (None, 56, 56, 256)       295168    \n",
            "                                                                 \n",
            " block3_conv2 (Conv2D)       (None, 56, 56, 256)       590080    \n",
            "                                                                 \n",
            " block3_conv3 (Conv2D)       (None, 56, 56, 256)       590080    \n",
            "                                                                 \n",
            " block3_pool (MaxPooling2D)  (None, 28, 28, 256)       0         \n",
            "                                                                 \n",
            " block4_conv1 (Conv2D)       (None, 28, 28, 512)       1180160   \n",
            "                                                                 \n",
            " block4_conv2 (Conv2D)       (None, 28, 28, 512)       2359808   \n",
            "                                                                 \n",
            " block4_conv3 (Conv2D)       (None, 28, 28, 512)       2359808   \n",
            "                                                                 \n",
            " block4_pool (MaxPooling2D)  (None, 14, 14, 512)       0         \n",
            "                                                                 \n",
            " block5_conv1 (Conv2D)       (None, 14, 14, 512)       2359808   \n",
            "                                                                 \n",
            " block5_conv2 (Conv2D)       (None, 14, 14, 512)       2359808   \n",
            "                                                                 \n",
            " block5_conv3 (Conv2D)       (None, 14, 14, 512)       2359808   \n",
            "                                                                 \n",
            " block5_pool (MaxPooling2D)  (None, 7, 7, 512)         0         \n",
            "                                                                 \n",
            " flatten (Flatten)           (None, 25088)             0         \n",
            "                                                                 \n",
            " fc1 (Dense)                 (None, 4096)              102764544 \n",
            "                                                                 \n",
            " fc2 (Dense)                 (None, 4096)              16781312  \n",
            "                                                                 \n",
            " predictions (Dense)         (None, 1000)              4097000   \n",
            "                                                                 \n",
            "=================================================================\n",
            "Total params: 138,357,544\n",
            "Trainable params: 138,357,544\n",
            "Non-trainable params: 0\n",
            "_________________________________________________________________\n"
          ]
        }
      ]
    },
    {
      "cell_type": "code",
      "source": [
        "a.input_shape"
      ],
      "metadata": {
        "colab": {
          "base_uri": "https://localhost:8080/"
        },
        "id": "W_n_uCyU8-Bq",
        "outputId": "31aac231-4567-4cb0-ee25-8386890e76c1"
      },
      "execution_count": null,
      "outputs": [
        {
          "output_type": "execute_result",
          "data": {
            "text/plain": [
              "(None, 224, 224, 3)"
            ]
          },
          "metadata": {},
          "execution_count": 12
        }
      ]
    },
    {
      "cell_type": "code",
      "execution_count": null,
      "metadata": {
        "id": "SrOmgeMdtT4o"
      },
      "outputs": [],
      "source": [
        "initial_lr = 0.00001\n",
        "epochs=20\n",
        "def _model():\n",
        "    conv_base = VGG16(weights='imagenet',include_top=True,input_shape=(224, 224, 3))\n",
        "    model = models.Sequential()\n",
        "    model.add(conv_base)\n",
        "    model.add(layers.Flatten())\n",
        "    model.add(layers.Dense(units=4096,activation=\"relu\"))\n",
        "    model.add(layers.Dropout(0.3))\n",
        "    model.add(layers.Dense(2000, activation = \"relu\"))\n",
        "    model.add(layers.Dropout(0.3))\n",
        "    model.add(layers.Dense(4, activation = 'softmax'))\n",
        "    \n",
        "    model.compile(loss='categorical_crossentropy',optimizer = adam_v2.Adam(learning_rate = initial_lr, decay = initial_lr/epochs),\n",
        "              metrics=['accuracy'])\n",
        "    return model"
      ]
    },
    {
      "cell_type": "code",
      "source": [
        ""
      ],
      "metadata": {
        "id": "DcDVM0ry8a0C"
      },
      "execution_count": null,
      "outputs": []
    },
    {
      "cell_type": "code",
      "execution_count": null,
      "metadata": {
        "colab": {
          "base_uri": "https://localhost:8080/"
        },
        "id": "evKotDu1t-Qt",
        "outputId": "6d02f11d-421e-4be8-bea2-1221966c047c"
      },
      "outputs": [
        {
          "output_type": "stream",
          "name": "stdout",
          "text": [
            "Model: \"sequential\"\n",
            "_________________________________________________________________\n",
            " Layer (type)                Output Shape              Param #   \n",
            "=================================================================\n",
            " vgg16 (Functional)          (None, 1000)              138357544 \n",
            "                                                                 \n",
            " flatten (Flatten)           (None, 1000)              0         \n",
            "                                                                 \n",
            " dense (Dense)               (None, 4096)              4100096   \n",
            "                                                                 \n",
            " dropout (Dropout)           (None, 4096)              0         \n",
            "                                                                 \n",
            " dense_1 (Dense)             (None, 2000)              8194000   \n",
            "                                                                 \n",
            " dropout_1 (Dropout)         (None, 2000)              0         \n",
            "                                                                 \n",
            " dense_2 (Dense)             (None, 4)                 8004      \n",
            "                                                                 \n",
            "=================================================================\n",
            "Total params: 150,659,644\n",
            "Trainable params: 150,659,644\n",
            "Non-trainable params: 0\n",
            "_________________________________________________________________\n"
          ]
        }
      ],
      "source": [
        "model=_model()\n",
        "model.summary()"
      ]
    },
    {
      "cell_type": "code",
      "execution_count": null,
      "metadata": {
        "id": "yQ76quFp3yc9"
      },
      "outputs": [],
      "source": [
        "class LossHistory(tf.keras.callbacks.Callback):\n",
        "    def on_train_begin(self, logs={}):\n",
        "        self.metrics_json = {}\n",
        "\n",
        "    def on_batch_end(self, batch, logs={}):\n",
        "        steps = list(range(0,555, 50))\n",
        "        self.metrics_json[batch] = {\n",
        "            'loss' : logs.get('loss'),\n",
        "            'acc' : logs.get('accuracy')}\n",
        "        if batch in steps:\n",
        "          self.metrics_json[int(batch)]['val'] = self.model.evaluate(val_dataset)\n",
        "\n",
        "\n",
        "    def on_train_end(self, logs={}, **kwargs):\n",
        "      out_file = open(\"batch_metrics.json\", \"w+\")\n",
        "      json.dump(self.metrics_json, out_file, indent = 6)\n",
        "      out_file.close()"
      ]
    },
    {
      "cell_type": "code",
      "execution_count": null,
      "metadata": {
        "id": "ABRGKKpF1IDg"
      },
      "outputs": [],
      "source": [
        ""
      ]
    },
    {
      "cell_type": "code",
      "execution_count": null,
      "metadata": {
        "id": "-4CayzpDwnxn"
      },
      "outputs": [],
      "source": [
        ""
      ]
    },
    {
      "cell_type": "code",
      "execution_count": null,
      "metadata": {
        "colab": {
          "base_uri": "https://localhost:8080/"
        },
        "id": "PLJZrAyauBmv",
        "outputId": "ca937271-4e0c-4e6a-d9e0-39313a5db34b"
      },
      "outputs": [
        {
          "output_type": "stream",
          "name": "stdout",
          "text": [
            "Epoch 1/10\n",
            "641/641 [==============================] - 413s 616ms/step - loss: 0.9431 - accuracy: 0.5748 - val_loss: 0.7863 - val_accuracy: 0.5885\n",
            "Epoch 2/10\n",
            "641/641 [==============================] - 387s 603ms/step - loss: 0.4603 - accuracy: 0.8145 - val_loss: 0.2048 - val_accuracy: 0.9294\n",
            "Epoch 3/10\n",
            "641/641 [==============================] - 386s 602ms/step - loss: 0.1861 - accuracy: 0.9352 - val_loss: 0.1641 - val_accuracy: 0.9450\n",
            "Epoch 4/10\n",
            "641/641 [==============================] - 385s 601ms/step - loss: 0.1397 - accuracy: 0.9512 - val_loss: 0.1426 - val_accuracy: 0.9510\n",
            "Epoch 5/10\n",
            "641/641 [==============================] - 385s 600ms/step - loss: 0.1154 - accuracy: 0.9607 - val_loss: 0.1385 - val_accuracy: 0.9545\n",
            "Epoch 6/10\n",
            "641/641 [==============================] - 385s 600ms/step - loss: 0.0924 - accuracy: 0.9683 - val_loss: 0.1369 - val_accuracy: 0.9569\n",
            "Epoch 7/10\n",
            "641/641 [==============================] - 385s 600ms/step - loss: 0.0807 - accuracy: 0.9713 - val_loss: 0.1189 - val_accuracy: 0.9569\n",
            "Epoch 8/10\n",
            "641/641 [==============================] - 385s 600ms/step - loss: 0.0715 - accuracy: 0.9753 - val_loss: 0.1632 - val_accuracy: 0.9510\n",
            "Epoch 9/10\n",
            "641/641 [==============================] - 385s 601ms/step - loss: 0.0628 - accuracy: 0.9793 - val_loss: 0.1204 - val_accuracy: 0.9605\n",
            "Epoch 10/10\n",
            "641/641 [==============================] - 385s 600ms/step - loss: 0.0512 - accuracy: 0.9815 - val_loss: 0.1258 - val_accuracy: 0.9569\n"
          ]
        }
      ],
      "source": [
        "history = model.fit(\n",
        "      train_dataset, \n",
        "      batch_size=32,\n",
        "      epochs=10, \n",
        "      verbose=1,\n",
        "      validation_data=val_dataset) "
      ]
    },
    {
      "cell_type": "code",
      "source": [
        "history.history"
      ],
      "metadata": {
        "colab": {
          "base_uri": "https://localhost:8080/"
        },
        "id": "5vfuCSyJARNW",
        "outputId": "1640a845-18fa-4cd9-c394-7bbfa339f814"
      },
      "execution_count": null,
      "outputs": [
        {
          "output_type": "execute_result",
          "data": {
            "text/plain": [
              "{'accuracy': [0.5747928023338318,\n",
              "  0.814480721950531,\n",
              "  0.9352023601531982,\n",
              "  0.9511945247650146,\n",
              "  0.9606533646583557,\n",
              "  0.96830815076828,\n",
              "  0.9713310599327087,\n",
              "  0.9752803444862366,\n",
              "  0.9792783856391907,\n",
              "  0.9814724326133728],\n",
              " 'loss': [0.9430673122406006,\n",
              "  0.460269957780838,\n",
              "  0.18611997365951538,\n",
              "  0.13969959318637848,\n",
              "  0.11538539826869965,\n",
              "  0.09238652884960175,\n",
              "  0.08070795983076096,\n",
              "  0.07147315889596939,\n",
              "  0.06280042976140976,\n",
              "  0.05122269690036774],\n",
              " 'val_accuracy': [0.5885167717933655,\n",
              "  0.929425835609436,\n",
              "  0.9449760913848877,\n",
              "  0.9509569406509399,\n",
              "  0.9545454382896423,\n",
              "  0.9569377899169922,\n",
              "  0.9569377899169922,\n",
              "  0.9509569406509399,\n",
              "  0.9605262875556946,\n",
              "  0.9569377899169922],\n",
              " 'val_loss': [0.7863339781761169,\n",
              "  0.20481230318546295,\n",
              "  0.164073646068573,\n",
              "  0.14259794354438782,\n",
              "  0.13851147890090942,\n",
              "  0.13685530424118042,\n",
              "  0.11887752264738083,\n",
              "  0.1632140725851059,\n",
              "  0.12039406597614288,\n",
              "  0.1257590353488922]}"
            ]
          },
          "metadata": {},
          "execution_count": 17
        }
      ]
    },
    {
      "cell_type": "code",
      "source": [
        "plt.plot(history.history['accuracy'])\n",
        "plt.plot(history.history['val_accuracy'])\n",
        "plt.plot(history.history['loss'])\n",
        "plt.plot(history.history['val_loss'])\n",
        "plt.title('model accuracy')\n",
        "plt.ylabel('accuracy')\n",
        "plt.xlabel('epoch')\n",
        "plt.legend(['train', 'val'], loc='upper left')\n",
        "plt.show()"
      ],
      "metadata": {
        "colab": {
          "base_uri": "https://localhost:8080/",
          "height": 295
        },
        "id": "pCNlBnLU_NRx",
        "outputId": "2a2a4683-1aeb-4dfd-e38b-8de4e177c10b"
      },
      "execution_count": null,
      "outputs": [
        {
          "output_type": "display_data",
          "data": {
            "text/plain": [
              "<Figure size 432x288 with 1 Axes>"
            ],
            "image/png": "[encoded data removed]"
          },
          "metadata": {
            "needs_background": "light"
          }
        }
      ]
    },
    {
      "cell_type": "code",
      "source": [
        "train_loss, train_acc = model.evaluate_generator(train_dataset, steps=9)\n",
        "validation_loss, test_acc = model.evaluate_generator(val_dataset, steps=9)\n",
        "print('Train: %.3f, Test: %.3f' % (train_acc, test_acc))"
      ],
      "metadata": {
        "id": "jtgrZlQY-Z04",
        "colab": {
          "base_uri": "https://localhost:8080/"
        },
        "outputId": "9bb39218-e4c6-4877-ce94-4ce8a2619b4c"
      },
      "execution_count": null,
      "outputs": [
        {
          "output_type": "stream",
          "name": "stderr",
          "text": [
            "/usr/local/lib/python3.7/dist-packages/ipykernel_launcher.py:1: UserWarning: `Model.evaluate_generator` is deprecated and will be removed in a future version. Please use `Model.evaluate`, which supports generators.\n",
            "  \"\"\"Entry point for launching an IPython kernel.\n",
            "/usr/local/lib/python3.7/dist-packages/ipykernel_launcher.py:2: UserWarning: `Model.evaluate_generator` is deprecated and will be removed in a future version. Please use `Model.evaluate`, which supports generators.\n",
            "  \n"
          ]
        },
        {
          "output_type": "stream",
          "name": "stdout",
          "text": [
            "Train: 0.990, Test: 0.958\n"
          ]
        }
      ]
    },
    {
      "cell_type": "code",
      "source": [
        "model.save('Auto VGG16 Maize-Crop-Disease.h5')"
      ],
      "metadata": {
        "id": "6f_fIouZHtKw"
      },
      "execution_count": null,
      "outputs": []
    }
  ],
  "metadata": {
    "accelerator": "GPU",
    "colab": {
      "collapsed_sections": [],
      "name": "Auto VGG16 Maize-Crop-Disease.ipynb",
      "provenance": []
    },
    "kernelspec": {
      "display_name": "Python 3",
      "name": "python3"
    },
    "language_info": {
      "name": "python"
    }
  },
  "nbformat": 4,
  "nbformat_minor": 0
}